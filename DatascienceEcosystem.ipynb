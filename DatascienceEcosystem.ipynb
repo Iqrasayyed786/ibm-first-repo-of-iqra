{
 "cells": [
  {
   "cell_type": "markdown",
   "id": "00d802f5-cc08-4698-9e8f-81049bc06d08",
   "metadata": {},
   "source": [
    "# Data science tools and Ecosystem\n",
    "\n",
    "\n",
    "# Introduction\n",
    "## In this notebook, Data science tool and Ecosystem are summarized"
   ]
  },
  {
   "cell_type": "markdown",
   "id": "d2754b05-6ec7-4914-b035-33d80d2ccb77",
   "metadata": {},
   "source": [
    "***Objectives***\n",
    "\n",
    "- SQL\n",
    "- R\n",
    "- Julia\n",
    "\n",
    "* JavaScript\n",
    "* Java\n",
    "* Scala\n"
   ]
  },
  {
   "cell_type": "markdown",
   "id": "081b5114-bc98-4962-b7db-f91999e0d4ca",
   "metadata": {},
   "source": [
    "# Some of the popular languages that data scientist use are:\n",
    "1. python\n",
    "2. SQL\n",
    "3. JAVA\n"
   ]
  },
  {
   "cell_type": "markdown",
   "id": "9e48918f-f4c6-493e-8ef3-7ce2975ccc33",
   "metadata": {},
   "source": [
    "## Some of the commonly used libraries by data scientists include:\n",
    "1. Tensorflow\n",
    "2. Pandas\n",
    "3. NumPy\n",
    "4. Sci-kit-learn"
   ]
  },
  {
   "cell_type": "markdown",
   "id": "7255aef6-0322-4746-9e22-423a708b4de3",
   "metadata": {},
   "source": [
    "# Open source tool used in data science\n",
    "\n",
    "| Data science tool |\n",
    "| ----------------- |\n",
    "| Apache Spark |\n",
    "| Python |\n",
    "|Jupyter Notebook |\n",
    "\n"
   ]
  },
  {
   "cell_type": "markdown",
   "id": "1d6aae52-9723-4a2c-abde-2a961854aebf",
   "metadata": {},
   "source": [
    "### Below are few examples of evaluating arithmetic expressions in Python. "
   ]
  },
  {
   "cell_type": "code",
   "execution_count": 1,
   "id": "f289891e-d400-41b3-a4e6-69adcdeb5174",
   "metadata": {
    "tags": []
   },
   "outputs": [
    {
     "data": {
      "text/plain": [
       "17"
      ]
     },
     "execution_count": 1,
     "metadata": {},
     "output_type": "execute_result"
    }
   ],
   "source": [
    "# This is a simple arithmetic expression to multiply then add integers.\n",
    "\n",
    "(3*4)+5\n",
    "\n"
   ]
  },
  {
   "cell_type": "code",
   "execution_count": 3,
   "id": "564f13cc-bd58-4ba8-b407-fe61d3c1fe24",
   "metadata": {
    "tags": []
   },
   "outputs": [
    {
     "data": {
      "text/plain": [
       "3.3333333333333335"
      ]
     },
     "execution_count": 3,
     "metadata": {},
     "output_type": "execute_result"
    }
   ],
   "source": [
    "# This will convert 200 minutes to hours by dividing by 60.\n",
    "\n",
    "(200/60)\n",
    "\n",
    "\n"
   ]
  },
  {
   "cell_type": "markdown",
   "id": "11023139-d431-492f-bb9d-def42de44554",
   "metadata": {},
   "source": [
    "## Author\n",
    "## Iqra"
   ]
  },
  {
   "cell_type": "code",
   "execution_count": null,
   "id": "ce2ef2c4-fec7-4b1c-99d4-4d776f6b61bc",
   "metadata": {},
   "outputs": [],
   "source": []
  }
 ],
 "metadata": {
  "kernelspec": {
   "display_name": "Python",
   "language": "python",
   "name": "conda-env-python-py"
  },
  "language_info": {
   "codemirror_mode": {
    "name": "ipython",
    "version": 3
   },
   "file_extension": ".py",
   "mimetype": "text/x-python",
   "name": "python",
   "nbconvert_exporter": "python",
   "pygments_lexer": "ipython3",
   "version": "3.7.12"
  }
 },
 "nbformat": 4,
 "nbformat_minor": 5
}
